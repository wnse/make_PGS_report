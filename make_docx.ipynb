{
 "cells": [
  {
   "cell_type": "code",
   "execution_count": 76,
   "id": "5c89c1b9-af8b-45e2-b682-c847c337d70d",
   "metadata": {},
   "outputs": [],
   "source": [
    "from docx import Document\n",
    "from docx.enum.table import WD_ROW_HEIGHT\n",
    "from docx.enum.table import WD_ALIGN_VERTICAL\n",
    "\n"
   ]
  },
  {
   "cell_type": "code",
   "execution_count": 57,
   "id": "e88deba1-00b5-4a23-9804-db57f2faf7d3",
   "metadata": {},
   "outputs": [],
   "source": [
    "from docx.shared import Cm"
   ]
  },
  {
   "cell_type": "code",
   "execution_count": 77,
   "id": "98027a01-db74-4bf7-b428-66574134e659",
   "metadata": {},
   "outputs": [],
   "source": [
    "document = Document(f)\n",
    "\n",
    "f = 'template.docx'\n",
    "d = Document(f)\n",
    "para_last = d.tables[-2]\n",
    "\n",
    "pic = 'test.png'\n",
    "para_last_pic = para_last.cell(-1,0).add_paragraph().add_run().add_picture(pic, width=Cm(19))\n",
    "\n",
    "row = para_last.add_row()\n",
    "row.height_rule = WD_ROW_HEIGHT.AT_LEAST\n",
    "row.height = Cm(1)\n",
    "row.cells[0].text = 'test'\n",
    "\n",
    "row = para_last.add_row()\n",
    "row.height_rule = WD_ROW_HEIGHT.AT_LEAST\n",
    "row.height = Cm(1)\n",
    "row.cells[0].text = 'test'\n",
    "row.cells[0].vertical_alignment = WD_ALIGN_VERTICAL.BOTTOM\n",
    "\n",
    "d.save('template_out.docx')"
   ]
  }
 ],
 "metadata": {
  "jupytext": {
   "formats": "ipynb,auto:percent"
  },
  "kernelspec": {
   "display_name": "Python 3 (ipykernel)",
   "language": "python",
   "name": "python3"
  },
  "language_info": {
   "codemirror_mode": {
    "name": "ipython",
    "version": 3
   },
   "file_extension": ".py",
   "mimetype": "text/x-python",
   "name": "python",
   "nbconvert_exporter": "python",
   "pygments_lexer": "ipython3",
   "version": "3.10.0"
  }
 },
 "nbformat": 4,
 "nbformat_minor": 5
}
