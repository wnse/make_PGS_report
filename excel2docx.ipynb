{
 "cells": [
  {
   "cell_type": "code",
   "execution_count": 1,
   "id": "49ab4d52-adfd-4a5f-be98-bc82f7ea37bb",
   "metadata": {},
   "outputs": [],
   "source": [
    "import os\n",
    "import re\n",
    "from docx import Document\n",
    "from docx.enum.table import WD_ROW_HEIGHT\n",
    "from docx.enum.table import WD_ALIGN_VERTICAL\n",
    "from docx.shared import Cm, Pt, RGBColor\n",
    "from docx.oxml.ns import qn\n",
    "import pandas as pd\n",
    "import logging\n",
    "import argparse\n"
   ]
  },
  {
   "cell_type": "code",
   "execution_count": 39,
   "id": "8a484e49-bc3c-4e22-a9b4-6d9a8c18cb4b",
   "metadata": {},
   "outputs": [],
   "source": [
    "def fill_cell(cell, content, font_name='微软雅黑', font_size=10, color=RGBColor(0, 0, 0), bold=False):\n",
    "    run = cell.paragraphs[0].add_run(str(content))\n",
    "    run.bold = bold\n",
    "    run.font.name = font_name\n",
    "    run._element.rPr.rFonts.set(qn('w:eastAsia'), font_name)\n",
    "    run.font.size = Pt(font_size)\n",
    "    run.font.color.rgb = color\n",
    "\n",
    "def add_row(table, row_no, height=1):\n",
    "    while len(table.rows) < row_no+1:\n",
    "        row = table.add_row()\n",
    "        row.height_rule = WD_ROW_HEIGHT.AT_LEAST\n",
    "        row.height = Cm(height)\n",
    "\n",
    "def write_table(table, row, col, text, text_vertical=WD_ALIGN_VERTICAL.BOTTOM, bold=False, font_size=10):\n",
    "    if len(table.rows) < row:\n",
    "        add_row(table, row)\n",
    "    cell = table.cell(row-1, col-1)\n",
    "    cell.vertical_alignment = text_vertical\n",
    "    fill_cell(cell, text, bold=bold, font_size=font_size)\n",
    "    \n",
    "def insert_pic(table, row, col, pic_path, width=Cm(16)):\n",
    "    if len(table.rows) < row:\n",
    "        add_row(table, row)\n",
    "    table.cell(row-1, col-1).add_paragraph().add_run().add_picture(pic_path, width=width)"
   ]
  },
  {
   "cell_type": "code",
   "execution_count": 3,
   "id": "b06698fc-ecc7-4935-a9ff-2be43aee7267",
   "metadata": {},
   "outputs": [],
   "source": [
    "def ifmatch(text):\n",
    "    match = re.search('\\{(\\S+)\\}',text)\n",
    "    if match:\n",
    "        return match.group(1)\n",
    "    else:\n",
    "        return None\n",
    "def sub_cell(raw, new, text):\n",
    "    match = re.sub('\\{'+f'{raw}'+'\\}', new, text)\n",
    "    return match"
   ]
  },
  {
   "cell_type": "code",
   "execution_count": 42,
   "id": "3be28014-4ce4-4f04-a736-cc99f918052f",
   "metadata": {},
   "outputs": [],
   "source": [
    "def fill_template_table(table, data):\n",
    "    out_dict = {}\n",
    "    for rowIdx, row in enumerate(table.rows):\n",
    "        for colIdx, cell in enumerate(table.row_cells(rowIdx)):\n",
    "            match = ifmatch(cell.text)\n",
    "            if match:\n",
    "                if match in data.keys():\n",
    "                    out_dict[match] = [rowIdx, colIdx]\n",
    "                    try:\n",
    "                        text = sub_cell(match, str(data[match]), cell.text)\n",
    "                        cell.text = ''\n",
    "                        fill_cell(cell, text)\n",
    "                    except Exception as e:\n",
    "                        logging.error(e)\n",
    "                # else:\n",
    "                #     cell.text = ''\n",
    "    return out_dict\n",
    "                        \n",
    "def fill_template(document, data):\n",
    "    tables = document.tables\n",
    "    for table in tables:\n",
    "        match_idx = fill_template_table(table, data)"
   ]
  },
  {
   "cell_type": "code",
   "execution_count": 54,
   "id": "23a8e97c-8cd2-480c-ae16-4b1dc2413ab6",
   "metadata": {},
   "outputs": [],
   "source": [
    "def get_excel_info(excel_file, sheet_name='家系', index_col=['家系编号']):\n",
    "    df = pd.read_excel(excel_file, sheet_name=sheet_name).fillna('').astype(str)\n",
    "    df['index'] = df[index_col].apply(lambda x: ':'.join(x.to_list()), axis=1)\n",
    "    return df.set_index('index')\n",
    "\n",
    "def get_config(config_excel):\n",
    "    df_config = pd.read_excel(config_excel, header=None, index_col=0).fillna('')[1].to_dict()\n",
    "    return df_config\n",
    "\n",
    "def fill_sample_table(table, data):\n",
    "    match_idx = None\n",
    "    n = 1\n",
    "    for idx, sample in data.items():\n",
    "        logging.info(f'\\t\\tsample idx:\\t{idx}')\n",
    "        if match_idx:\n",
    "            for match, match_tableIdx in match_idx.items():\n",
    "                try:\n",
    "                    rowIdx, colIdx = match_tableIdx\n",
    "                    add_row(table, rowIdx+n)\n",
    "                    fill_cell(table.row_cells(rowIdx+n)[colIdx], sample[match])\n",
    "                except Exception as e:\n",
    "                    logging.error(e)\n",
    "            n += 1\n",
    "        else:\n",
    "            match_idx = fill_template_table(table, sample)\n",
    "            \n",
    "def insert_sample_figure(data, table, rowIdx, colIdx, preffix, suffix, pic_path):\n",
    "    n = 0\n",
    "    for idx, sample in data.items():\n",
    "        sample_name = idx.split(':')[1]\n",
    "        pic_file = os.path.join(pic_path, str(preffix)+str(sample_name)+str(suffix))\n",
    "        if os.path.isfile(pic_file):\n",
    "            insert_pic(table, rowIdx+n, colIdx, pic_file)\n",
    "        n += 1\n",
    "            \n",
    "def make_report_by_family(family_info, sample_info, config, template_docx, outdir, pic_dir):\n",
    "    for idx in family_info.index:\n",
    "        logging.info(f'\\tfamily idx:\\t{idx}')\n",
    "        d = Document(template_docx)\n",
    "        tables = d.tables\n",
    "        fill_template(d, family_info.loc[idx].to_dict())\n",
    "        if idx in sample_info[config['fileName']].to_list():\n",
    "            sample_info_tmp = sample_info[sample_info[config['fileName']] == idx].to_dict(orient='index')\n",
    "            for i in config['sampleTable'].split('+'):\n",
    "                table = tables[int(i)-1]\n",
    "                fill_sample_table(table, sample_info_tmp)\n",
    "            if 'sampleFigTable' in config.keys() and config['sampleFigTable']:\n",
    "                if os.path.isdir(pic_dir):\n",
    "                    insert_sample_figure(sample_info_tmp, tables[config['sampleFigTable']-1], config['sampleFigTableRow'], \n",
    "                                         config['sampleFigTableCol'], config['sampleFigPreffix'], config['sampleFigSuffix'], pic_dir)\n",
    "        d.save(os.path.join(outdir, str(idx)+'.docx'))"
   ]
  },
  {
   "cell_type": "code",
   "execution_count": 56,
   "id": "de506636-4b6b-4e60-b1ef-6eda1f32c8bb",
   "metadata": {},
   "outputs": [],
   "source": [
    "def excel2docx(config_file, input_file, template_docx, outdir, pic_dir=None):\n",
    "    try:\n",
    "        config = get_config(config_file)\n",
    "        family_info = get_excel_info(input_file, sheet_name=config['fileSheetName'], index_col=[config['fileName']])\n",
    "        sample_info = get_excel_info(input_file, sheet_name=config['sampleSheetName'], index_col=[config['fileName'], config['sampleName']])\n",
    "        make_report_by_family(family_info, sample_info, config, template_docx, outdir, pic_dir)\n",
    "    except Exception as e:\n",
    "        logging.error(e)"
   ]
  },
  {
   "cell_type": "code",
   "execution_count": 58,
   "id": "465c83a0-afc2-448a-a7e1-2832b732f900",
   "metadata": {},
   "outputs": [
    {
     "ename": "NameError",
     "evalue": "name '__file__' is not defined",
     "output_type": "error",
     "traceback": [
      "\u001b[0;31m---------------------------------------------------------------------------\u001b[0m",
      "\u001b[0;31mNameError\u001b[0m                                 Traceback (most recent call last)",
      "\u001b[0;32m/tmp/ipykernel_5872/267926731.py\u001b[0m in \u001b[0;36m<module>\u001b[0;34m\u001b[0m\n\u001b[1;32m      1\u001b[0m \u001b[0;32mif\u001b[0m \u001b[0m__name__\u001b[0m \u001b[0;34m==\u001b[0m \u001b[0;34m'__main__'\u001b[0m\u001b[0;34m:\u001b[0m\u001b[0;34m\u001b[0m\u001b[0;34m\u001b[0m\u001b[0m\n\u001b[0;32m----> 2\u001b[0;31m     \u001b[0mbin_dir\u001b[0m \u001b[0;34m=\u001b[0m \u001b[0mos\u001b[0m\u001b[0;34m.\u001b[0m\u001b[0mpath\u001b[0m\u001b[0;34m.\u001b[0m\u001b[0msplit\u001b[0m\u001b[0;34m(\u001b[0m\u001b[0mos\u001b[0m\u001b[0;34m.\u001b[0m\u001b[0mpath\u001b[0m\u001b[0;34m.\u001b[0m\u001b[0mrealpath\u001b[0m\u001b[0;34m(\u001b[0m\u001b[0m__file__\u001b[0m\u001b[0;34m)\u001b[0m\u001b[0;34m)\u001b[0m\u001b[0;34m[\u001b[0m\u001b[0;36m0\u001b[0m\u001b[0;34m]\u001b[0m\u001b[0;34m\u001b[0m\u001b[0;34m\u001b[0m\u001b[0m\n\u001b[0m\u001b[1;32m      3\u001b[0m     \u001b[0mparse\u001b[0m \u001b[0;34m=\u001b[0m \u001b[0margparse\u001b[0m\u001b[0;34m.\u001b[0m\u001b[0mArgumentParser\u001b[0m\u001b[0;34m(\u001b[0m\u001b[0mformatter_class\u001b[0m\u001b[0;34m=\u001b[0m\u001b[0margparse\u001b[0m\u001b[0;34m.\u001b[0m\u001b[0mArgumentDefaultsHelpFormatter\u001b[0m\u001b[0;34m)\u001b[0m\u001b[0;34m\u001b[0m\u001b[0;34m\u001b[0m\u001b[0m\n\u001b[1;32m      4\u001b[0m     \u001b[0mparse\u001b[0m\u001b[0;34m.\u001b[0m\u001b[0madd_argument\u001b[0m\u001b[0;34m(\u001b[0m\u001b[0;34m'-t'\u001b[0m\u001b[0;34m,\u001b[0m \u001b[0;34m'--template'\u001b[0m\u001b[0;34m,\u001b[0m \u001b[0mdefault\u001b[0m\u001b[0;34m=\u001b[0m\u001b[0mos\u001b[0m\u001b[0;34m.\u001b[0m\u001b[0mpath\u001b[0m\u001b[0;34m.\u001b[0m\u001b[0mjoin\u001b[0m\u001b[0;34m(\u001b[0m\u001b[0mbin_dir\u001b[0m\u001b[0;34m,\u001b[0m \u001b[0;34m'template_default.docx'\u001b[0m\u001b[0;34m)\u001b[0m\u001b[0;34m,\u001b[0m \u001b[0mhelp\u001b[0m\u001b[0;34m=\u001b[0m\u001b[0;34m'template docx'\u001b[0m\u001b[0;34m)\u001b[0m\u001b[0;34m\u001b[0m\u001b[0;34m\u001b[0m\u001b[0m\n\u001b[1;32m      5\u001b[0m     \u001b[0mparse\u001b[0m\u001b[0;34m.\u001b[0m\u001b[0madd_argument\u001b[0m\u001b[0;34m(\u001b[0m\u001b[0;34m'-i'\u001b[0m\u001b[0;34m,\u001b[0m \u001b[0;34m'--input'\u001b[0m\u001b[0;34m,\u001b[0m \u001b[0mdefault\u001b[0m\u001b[0;34m=\u001b[0m\u001b[0mos\u001b[0m\u001b[0;34m.\u001b[0m\u001b[0mpath\u001b[0m\u001b[0;34m.\u001b[0m\u001b[0mjoin\u001b[0m\u001b[0;34m(\u001b[0m\u001b[0mbin_dir\u001b[0m\u001b[0;34m,\u001b[0m \u001b[0;34m'test_data'\u001b[0m\u001b[0;34m,\u001b[0m \u001b[0;34m'test_input.xlsx'\u001b[0m\u001b[0;34m)\u001b[0m\u001b[0;34m,\u001b[0m \u001b[0mhelp\u001b[0m\u001b[0;34m=\u001b[0m\u001b[0;34m'input excel'\u001b[0m\u001b[0;34m)\u001b[0m\u001b[0;34m\u001b[0m\u001b[0;34m\u001b[0m\u001b[0m\n",
      "\u001b[0;31mNameError\u001b[0m: name '__file__' is not defined"
     ]
    }
   ],
   "source": [
    "if __name__ == '__main__':\n",
    "    logging.basicConfig(level=logging.INFO, format='%(asctime)s %(levelname)s %(message)s', datefmt='%Y-%m-%d %H:%M:%S')\n",
    "    bin_dir = os.path.split(os.path.realpath(__file__))[0]\n",
    "    parse = argparse.ArgumentParser(formatter_class=argparse.ArgumentDefaultsHelpFormatter)\n",
    "    parse.add_argument('-t', '--template', default=os.path.join(bin_dir, 'template_default.docx'), help='template docx')\n",
    "    parse.add_argument('-i', '--input', default=os.path.join(bin_dir, 'test_data', 'test_input.xlsx'), help='input excel')\n",
    "    parse.add_argument('-c', '--config', default=os.path.join(bin_dir, 'template_config_default.xlsx'), help='config excle')\n",
    "    parse.add_argument('-o', '--outdir', default=os.path.join(bin_dir, 'test_data/'), help='outdir')\n",
    "    parse.add_argument('-p', '--picdir', default=os.path.join(bin_dir, 'test_data/'), help='figure dir')\n",
    "    args = parse.parse_args()\n",
    "    \n",
    "\n",
    "    template_docx = args.template\n",
    "    in_data = args.input\n",
    "    config_data = args.config\n",
    "    outdir = args.outdir\n",
    "    picdir = args.picdir\n",
    "\n",
    "    excel2docx(config_data, in_data, template_docx, outdir, picdir)"
   ]
  },
  {
   "cell_type": "code",
   "execution_count": null,
   "id": "b0b06bb2-e93e-4999-9914-b36b17e5056b",
   "metadata": {},
   "outputs": [],
   "source": []
  },
  {
   "cell_type": "code",
   "execution_count": null,
   "id": "5d13d2a7-79e5-42bc-80f3-b8f88e8ca46d",
   "metadata": {},
   "outputs": [],
   "source": []
  }
 ],
 "metadata": {
  "jupytext": {
   "formats": "ipynb,auto:percent"
  },
  "kernelspec": {
   "display_name": "Python 3 (ipykernel)",
   "language": "python",
   "name": "python3"
  },
  "language_info": {
   "codemirror_mode": {
    "name": "ipython",
    "version": 3
   },
   "file_extension": ".py",
   "mimetype": "text/x-python",
   "name": "python",
   "nbconvert_exporter": "python",
   "pygments_lexer": "ipython3",
   "version": "3.10.0"
  }
 },
 "nbformat": 4,
 "nbformat_minor": 5
}
