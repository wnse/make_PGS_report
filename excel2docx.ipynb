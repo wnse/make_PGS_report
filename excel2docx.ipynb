{
 "cells": [
  {
   "cell_type": "code",
   "execution_count": 1,
   "id": "49ab4d52-adfd-4a5f-be98-bc82f7ea37bb",
   "metadata": {},
   "outputs": [],
   "source": [
    "import os\n",
    "import re\n",
    "from docx import Document\n",
    "from docx.enum.table import WD_ROW_HEIGHT\n",
    "from docx.enum.table import WD_ALIGN_VERTICAL\n",
    "from docx.shared import Cm, Pt, RGBColor\n",
    "from docx.oxml.ns import qn\n",
    "import pandas as pd\n",
    "import logging\n",
    "import argparse\n",
    "logging.basicConfig(level=logging.INFO, format='%(asctime)s %(levelname)s %(message)s', datefmt='%Y-%m-%d %H:%M:%S')"
   ]
  },
  {
   "cell_type": "code",
   "execution_count": 2,
   "id": "8a484e49-bc3c-4e22-a9b4-6d9a8c18cb4b",
   "metadata": {},
   "outputs": [],
   "source": [
    "def fill_cell(cell, content, font_name='微软雅黑', font_size=10, color=RGBColor(0, 0, 0), bold=False):\n",
    "    run = cell.paragraphs[0].add_run(str(content))\n",
    "    run.bold = bold\n",
    "    run.font.name = font_name\n",
    "    run._element.rPr.rFonts.set(qn('w:eastAsia'), font_name)\n",
    "    run.font.size = Pt(font_size)\n",
    "    run.font.color.rgb = color\n",
    "\n",
    "def add_row(table, row_no, height=1):\n",
    "    while len(table.rows) < row_no:\n",
    "        row = table.add_row()\n",
    "        row.height_rule = WD_ROW_HEIGHT.AT_LEAST\n",
    "        row.height = Cm(height)\n",
    "\n",
    "def write_table(table, row, col, text, text_vertical=WD_ALIGN_VERTICAL.BOTTOM, bold=False, font_size=10):\n",
    "    if len(table.rows) < row:\n",
    "        add_row(table, row)\n",
    "    cell = table.cell(row-1, col-1)\n",
    "    cell.vertical_alignment = text_vertical\n",
    "    fill_cell(cell, text, bold=bold, font_size=font_size)\n",
    "    \n",
    "def insert_pic(table, row, col, pic_path, width=Cm(19)):\n",
    "    if len(table.rows) < row:\n",
    "        add_row(table, row)\n",
    "    table.cell(row-1, col-1).add_paragraph().add_run().add_picture(pic_path, width=width)"
   ]
  },
  {
   "cell_type": "code",
   "execution_count": 3,
   "id": "b06698fc-ecc7-4935-a9ff-2be43aee7267",
   "metadata": {},
   "outputs": [],
   "source": [
    "def ifmatch(text):\n",
    "    match = re.search('\\{(\\S+)\\}',text)\n",
    "    if match:\n",
    "        return match.group(1)\n",
    "    else:\n",
    "        return None\n",
    "def sub_cell(raw, new, text):\n",
    "    match = re.sub('\\{'+f'{raw}'+'\\}', new, text)\n",
    "    return match"
   ]
  },
  {
   "cell_type": "code",
   "execution_count": 11,
   "id": "3be28014-4ce4-4f04-a736-cc99f918052f",
   "metadata": {},
   "outputs": [],
   "source": [
    "def fill_template_table(table, data):\n",
    "    for rowIdx, row in enumerate(table.rows):\n",
    "        for cell in table.row_cells(rowIdx):\n",
    "            match = ifmatch(cell.text)\n",
    "            if match:\n",
    "                if match in data.keys():\n",
    "                    logging.info(match)\n",
    "                    try:\n",
    "                        text = sub_cell(match, str(data[match]), cell.text)\n",
    "                        cell.text = ''\n",
    "                        fill_cell(cell, text)\n",
    "                    except Exception as e:\n",
    "                        logging.error(e)\n",
    "                        \n",
    "def fill_template(document, data):\n",
    "    tables = document.tables\n",
    "    for table in tables:\n",
    "        fill_template_table(table, data)"
   ]
  },
  {
   "cell_type": "code",
   "execution_count": 14,
   "id": "4ca20264-fa2b-4611-be26-c4df103cedb4",
   "metadata": {},
   "outputs": [
    {
     "name": "stderr",
     "output_type": "stream",
     "text": [
      "2022-03-24 17:40:42 INFO 1\n",
      "2022-03-24 17:40:42 INFO 女方姓名\n",
      "2022-03-24 17:40:42 INFO 女方年龄\n",
      "2022-03-24 17:40:42 INFO 活检日期\n",
      "2022-03-24 17:40:42 INFO 男方姓名\n",
      "2022-03-24 17:40:42 INFO 男方年龄\n",
      "2022-03-24 17:40:42 INFO 接收日期\n",
      "2022-03-24 17:40:42 INFO 报告日期\n",
      "2022-03-24 17:40:42 INFO 2\n",
      "2022-03-24 17:40:42 INFO 女方姓名\n",
      "2022-03-24 17:40:42 INFO 女方年龄\n",
      "2022-03-24 17:40:42 INFO 活检日期\n",
      "2022-03-24 17:40:42 INFO 男方姓名\n",
      "2022-03-24 17:40:42 INFO 男方年龄\n",
      "2022-03-24 17:40:42 INFO 接收日期\n",
      "2022-03-24 17:40:42 INFO 报告日期\n"
     ]
    }
   ],
   "source": [
    "def get_excel_info(excel_file, sheet_name='家系', index_col='家系编号'):\n",
    "    df = pd.read_excel(excel_file, sheet_name=sheet_name).astype(str)\n",
    "    return df.set_index(index_col)\n",
    "\n",
    "def get_config(config_excel):\n",
    "    df_config = pd.read_excel(config_excel, header=None, index_col=0)[1].to_dict()\n",
    "    return df_config\n",
    "\n",
    "def make_report_by_family(family_info, sample_info, config, template_docx, outdir):\n",
    "    for idx in family_info.index:\n",
    "        logging.info(idx)\n",
    "        d = Document(template_docx)\n",
    "        tables = d.tables\n",
    "        fill_template(d, family_info.loc[idx].to_dict())\n",
    "        d.save(os.path.join(outdir, str(idx)+'.docx'))\n",
    "\n",
    "\n",
    "template_docx = 'template_default.docx'\n",
    "in_data = 'test_data/test_input.xlsx'\n",
    "config_data = 'template_config.xlsx'\n",
    "outdir = 'test_data/'\n",
    "\n",
    "family_info = get_excel_info(in_data)\n",
    "sample_info = get_excel_info(in_data, sheet_name='样本')\n",
    "config = get_config(config_data)\n",
    "make_report_by_family(family_info, sample_info, config, template_docx, outdir)"
   ]
  },
  {
   "cell_type": "code",
   "execution_count": null,
   "id": "4d1cd4c1-b3f1-43aa-8c28-9cf6ae3dd444",
   "metadata": {},
   "outputs": [],
   "source": [
    "def make_PGS_report(dict_family, dict_sample, dict_config, outdir='./', png_dir=None):\n",
    "    for f, family in dict_family.items():\n",
    "        print(f)\n",
    "        f_out = os.path.join(outdir, f'{f}.docx')\n",
    "        if f in dict_sample.keys():\n",
    "            d = Document(tempate_file)\n",
    "            tables = d.tables\n",
    "            for idx, idx_info in family.items():\n",
    "                if idx in dict_config.keys():\n",
    "                    write_table(tables[dict_config[idx]['tab']-1], dict_config[idx]['row'], dict_config[idx]['col'], f'{idx_info}'.split()[0])\n",
    "            idx = '样本编号'\n",
    "            row_no = 0\n",
    "            for s, s_info in dict_sample[f].items():\n",
    "                print(s)\n",
    "                s_info['样本编号'] = str(s)    \n",
    "                for idx, idx_info in s_info.items():\n",
    "                    if idx in dict_config.keys():\n",
    "                        write_table(tables[dict_config[idx]['tab']-1], dict_config[idx]['row']+row_no, dict_config[idx]['col'], f'{idx_info}')\n",
    "                if png_dir:\n",
    "                    write_table(tables[4], row_no*4+1, 1, f\"样本编号：\", bold=True, font_size=11)\n",
    "                    write_table(tables[4], row_no*4+2, 1, f\"检测结果：\", bold=True, font_size=11)\n",
    "                    write_table(tables[4], row_no*4+3, 1, f\"染色体拷贝数结果\", bold=True, font_size=11)\n",
    "\n",
    "                    write_table(tables[4], row_no*4+1, 1, f\"{s_info['样本编号']}\")\n",
    "                    write_table(tables[4], row_no*4+2, 1, f\"{s_info['检测结果']}\")\n",
    "                    pic_path = os.path.join(pngdir, f'{s}.png')\n",
    "                    insert_pic(tables[4], row_no*4+4, 1, pic_path)\n",
    "                row_no += 1\n",
    "            d.save(f_out)"
   ]
  },
  {
   "cell_type": "code",
   "execution_count": null,
   "id": "b0b06bb2-e93e-4999-9914-b36b17e5056b",
   "metadata": {},
   "outputs": [],
   "source": []
  },
  {
   "cell_type": "code",
   "execution_count": null,
   "id": "5d13d2a7-79e5-42bc-80f3-b8f88e8ca46d",
   "metadata": {},
   "outputs": [],
   "source": []
  }
 ],
 "metadata": {
  "kernelspec": {
   "display_name": "Python 3 (ipykernel)",
   "language": "python",
   "name": "python3"
  },
  "language_info": {
   "codemirror_mode": {
    "name": "ipython",
    "version": 3
   },
   "file_extension": ".py",
   "mimetype": "text/x-python",
   "name": "python",
   "nbconvert_exporter": "python",
   "pygments_lexer": "ipython3",
   "version": "3.10.0"
  }
 },
 "nbformat": 4,
 "nbformat_minor": 5
}
