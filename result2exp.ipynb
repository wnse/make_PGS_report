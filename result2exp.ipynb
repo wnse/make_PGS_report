{
 "cells": [
  {
   "cell_type": "code",
   "execution_count": 98,
   "id": "712f3b9d-81c2-416a-a401-e358e264e5ec",
   "metadata": {},
   "outputs": [],
   "source": [
    "import re\n",
    "import pandas as pd\n",
    "import logging\n",
    "import argparse\n",
    "\n",
    "pattern_chr = re.compile(r'([+-])([XY]*\\d*)\\(*(mos)*,*(\\d+\\.*\\d*%)*\\)*')\n",
    "pattern_cnv = re.compile(r'(del|dup)\\((\\S+?)\\)\\((.*?-.*?),(.*?Mb),*(mos)*,*(\\d+\\.*\\d*%)*\\)')"
   ]
  },
  {
   "cell_type": "code",
   "execution_count": 54,
   "id": "98448b73-cd4b-4f22-acdd-ca2b2132c55c",
   "metadata": {},
   "outputs": [],
   "source": [
    "def get_exp(lst):\n",
    "    ty = lst[0]\n",
    "    ch = lst[1]\n",
    "    if ty == '+':\n",
    "        if not lst[2]:\n",
    "            exp = '重复'\n",
    "        elif lst[2] == 'mos':\n",
    "            exp = '三体嵌合'\n",
    "        else:\n",
    "            exp = None\n",
    "    elif ty == '-':\n",
    "        if not lst[2]:\n",
    "            exp = '缺失'\n",
    "        elif lst[2] == 'mos':\n",
    "            exp = '单体嵌合'\n",
    "        else:\n",
    "            exp = None\n",
    "    elif ty == 'dup':\n",
    "        if not lst[4]:\n",
    "            exp = '部分重复'\n",
    "        elif lst[4] == 'mos':\n",
    "            exp = '部分重复嵌合'\n",
    "        else:\n",
    "            exp = None\n",
    "    elif ty == 'del':\n",
    "        if not lst[4]:\n",
    "            exp = '部分缺失'\n",
    "        elif lst[4] == 'mos':\n",
    "            exp = '部分缺失嵌合'\n",
    "        else:\n",
    "            exp = None\n",
    "    else:\n",
    "        exp = None\n",
    "    return [ch, exp]\n",
    "\n",
    "def lst2exp(lst):\n",
    "    out_dict = {}\n",
    "    exp_list = [get_exp(i) for i in lst]\n",
    "    for ch, exp in exp_list:\n",
    "        if exp:\n",
    "            out_dict[exp] = out_dict.get(exp, [])\n",
    "            out_dict[exp].append(ch)\n",
    "        else:\n",
    "            logging.error(f'illegle character:\\t{lst}')\n",
    "    return out_dict"
   ]
  },
  {
   "cell_type": "code",
   "execution_count": 81,
   "id": "0468dd42-f157-447a-9bee-f40465823c43",
   "metadata": {},
   "outputs": [],
   "source": [
    "def get_schr(schr):\n",
    "    if re.match('\\d+,(\\w+)', schr):\n",
    "        s = re.match('\\d+,(\\w+)', schr).group(1)\n",
    "        return f\"{s}\"\n",
    "    else:\n",
    "        return None"
   ]
  },
  {
   "cell_type": "code",
   "execution_count": 96,
   "id": "5e61e270-761c-4e23-8735-ef444a7f2c81",
   "metadata": {},
   "outputs": [],
   "source": [
    "def dict2ext(res_dict):\n",
    "    out_dict = {}\n",
    "    for idx, res in res_dict.items():\n",
    "        out_dict[idx] = {}\n",
    "        res_chr = res.strip().split(';')\n",
    "        schr = res_chr.pop(0)\n",
    "        out_dict[idx]['性染色体'] = get_schr(schr)\n",
    "        out_dict[idx]['结果'] = res\n",
    "        total_lst = []\n",
    "        total_exp_lst = []\n",
    "        for r in res_chr:\n",
    "            if r:\n",
    "                if pattern_chr.match(r):\n",
    "                    total_lst.append(pattern_chr.match(r).groups())\n",
    "                elif pattern_cnv.match(r):\n",
    "                    total_lst.append(pattern_cnv.match(r).groups())\n",
    "                else:\n",
    "                    logging.error(f'{idx}\\t{\"not match\"}')\n",
    "        if total_lst:\n",
    "            exp_dict = lst2exp(total_lst)\n",
    "            for i, v in exp_dict.items():\n",
    "                chrs = '、'.join(v)\n",
    "                total_exp_lst.append(f'{chrs}号染色体{i}')\n",
    "        if total_exp_lst:\n",
    "            tmp_exp = '; '.join(total_exp_lst) \n",
    "        else:\n",
    "            tmp_exp = '未见异常'\n",
    "        out_dict[idx]['解释'] = tmp_exp\n",
    "    return out_dict"
   ]
  },
  {
   "cell_type": "code",
   "execution_count": 99,
   "id": "5647edd9-e776-4658-905e-0a1ebedc479a",
   "metadata": {},
   "outputs": [
    {
     "name": "stderr",
     "output_type": "stream",
     "text": [
      "usage: ipykernel_launcher.py [-h] -i INPUT [-o OUTPUT]\n",
      "ipykernel_launcher.py: error: the following arguments are required: -i/--input\n"
     ]
    },
    {
     "ename": "SystemExit",
     "evalue": "2",
     "output_type": "error",
     "traceback": [
      "An exception has occurred, use %tb to see the full traceback.\n",
      "\u001b[0;31mSystemExit\u001b[0m\u001b[0;31m:\u001b[0m 2\n"
     ]
    },
    {
     "name": "stderr",
     "output_type": "stream",
     "text": [
      "/home/yangk/anaconda3/envs/GermountX/lib/python3.10/site-packages/IPython/core/interactiveshell.py:3452: UserWarning: To exit: use 'exit', 'quit', or Ctrl-D.\n",
      "  warn(\"To exit: use 'exit', 'quit', or Ctrl-D.\", stacklevel=1)\n"
     ]
    }
   ],
   "source": [
    "if __name__ == '__main__':\n",
    "    parse = argparse.ArgumentParser(formatter_class=argparse.ArgumentDefaultsHelpFormatter)\n",
    "    parse.add_argument('-i', '--input', required=True, help='intpu data including {样本} sheet which has {样本编号}&{检测结果}')\n",
    "    parse.add_argument('-o', '--output', default=None, help='output excel, stdout if none')\n",
    "    args = parse.parse_args()\n",
    "    logging.basicConfig(level=logging.INFO, format='%(asctime)s %(levelname)s %(message)s', datefmt='%Y-%m-%d %H:%M:%S')\n",
    "    # f = 'test_data/test_input-0401.xlsx'\n",
    "    f = args.input\n",
    "    res_dict = pd.read_excel(f, '样本').set_index('样本编号')['检测结果'].to_dict()\n",
    "    try:\n",
    "        df_dict = dict2ext(res_dict)\n",
    "    except Exception as e:\n",
    "        logging.error(e)\n",
    "        \n",
    "    if args.output:\n",
    "        try:\n",
    "            pd.DataFrame.from_dict(df_dict, orient='index').to_excel(args.output)\n",
    "        except Exception as e:\n",
    "            logging.error(e)\n",
    "    else:\n",
    "        logging.info(df_dict)"
   ]
  }
 ],
 "metadata": {
  "jupytext": {
   "formats": "ipynb,auto:percent"
  },
  "kernelspec": {
   "display_name": "Python 3 (ipykernel)",
   "language": "python",
   "name": "python3"
  },
  "language_info": {
   "codemirror_mode": {
    "name": "ipython",
    "version": 3
   },
   "file_extension": ".py",
   "mimetype": "text/x-python",
   "name": "python",
   "nbconvert_exporter": "python",
   "pygments_lexer": "ipython3",
   "version": "3.10.0"
  }
 },
 "nbformat": 4,
 "nbformat_minor": 5
}
