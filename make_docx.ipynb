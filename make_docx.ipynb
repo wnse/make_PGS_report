{
 "cells": [
  {
   "cell_type": "code",
   "execution_count": 50,
   "id": "5c89c1b9-af8b-45e2-b682-c847c337d70d",
   "metadata": {},
   "outputs": [],
   "source": [
    "import os\n",
    "from docx import Document\n",
    "from docx.enum.table import WD_ROW_HEIGHT\n",
    "from docx.enum.table import WD_ALIGN_VERTICAL\n",
    "from docx.shared import Cm, Pt, RGBColor\n",
    "from docx.oxml.ns import qn\n",
    "import pandas as pd\n",
    "import logging\n",
    "import argparse"
   ]
  },
  {
   "cell_type": "code",
   "execution_count": 45,
   "id": "19a9a2f0-bcf7-4a75-870d-d4560c17274d",
   "metadata": {},
   "outputs": [],
   "source": [
    "def fill_cell(cell, content, font_name='微软雅黑', font_size=10, color=RGBColor(0, 0, 0), bold=False):\n",
    "    run = cell.paragraphs[0].add_run(str(content))\n",
    "    run.bold = bold\n",
    "    run.font.name = font_name\n",
    "    run._element.rPr.rFonts.set(qn('w:eastAsia'), font_name)\n",
    "    run.font.size = Pt(font_size)\n",
    "    run.font.color.rgb = color\n",
    "\n",
    "def add_row(table, row_no, height=1):\n",
    "    while len(table.rows) < row_no:\n",
    "        row = table.add_row()\n",
    "        row.height_rule = WD_ROW_HEIGHT.AT_LEAST\n",
    "        row.height = Cm(height)\n",
    "\n",
    "def write_table(table, row, col, text, text_vertical=WD_ALIGN_VERTICAL.BOTTOM, bold=False, font_size=10):\n",
    "    if len(table.rows) < row:\n",
    "        add_row(table, row)\n",
    "    cell = table.cell(row-1, col-1)\n",
    "    cell.vertical_alignment = text_vertical\n",
    "    fill_cell(cell, text, bold=bold, font_size=font_size)\n",
    "    \n",
    "def insert_pic(table, row, col, pic_path, width=Cm(19)):\n",
    "    if len(table.rows) < row:\n",
    "        add_row(table, row)\n",
    "    table.cell(row-1, col-1).add_paragraph().add_run().add_picture(pic_path, width=width)"
   ]
  },
  {
   "cell_type": "code",
   "execution_count": 51,
   "id": "e745883f-ff89-48cf-9da5-02eede6ace62",
   "metadata": {},
   "outputs": [],
   "source": [
    "def make_PGS_report(dict_family, dict_sample, dict_config, outdir='./', png_dir=None):\n",
    "    for f, family in dict_family.items():\n",
    "        print(f)\n",
    "        f_out = os.path.join(outdir, f'{f}.docx')\n",
    "        if f in dict_sample.keys():\n",
    "            d = Document(tempate_file)\n",
    "            tables = d.tables\n",
    "            for idx, idx_info in family.items():\n",
    "                if idx in dict_config.keys():\n",
    "                    write_table(tables[dict_config[idx]['tab']-1], dict_config[idx]['row'], dict_config[idx]['col'], f'{idx_info}'.split()[0])\n",
    "            idx = '样本编号'\n",
    "            row_no = 0\n",
    "            for s, s_info in dict_sample[f].items():\n",
    "                print(s)\n",
    "                s_info['样本编号'] = str(s)    \n",
    "                for idx, idx_info in s_info.items():\n",
    "                    if idx in dict_config.keys():\n",
    "                        write_table(tables[dict_config[idx]['tab']-1], dict_config[idx]['row']+row_no, dict_config[idx]['col'], f'{idx_info}')\n",
    "                if png_dir:\n",
    "                    write_table(tables[4], row_no*4+1, 1, f\"样本编号：\", bold=True, font_size=11)\n",
    "                    write_table(tables[4], row_no*4+2, 1, f\"检测结果：\", bold=True, font_size=11)\n",
    "                    write_table(tables[4], row_no*4+3, 1, f\"染色体拷贝数结果\", bold=True, font_size=11)\n",
    "\n",
    "                    write_table(tables[4], row_no*4+1, 1, f\"{s_info['样本编号']}\")\n",
    "                    write_table(tables[4], row_no*4+2, 1, f\"{s_info['检测结果']}\")\n",
    "                    pic_path = os.path.join(pngdir, f'{s}.png')\n",
    "                    insert_pic(tables[4], row_no*4+4, 1, pic_path)\n",
    "                row_no += 1\n",
    "            d.save(f_out)"
   ]
  },
  {
   "cell_type": "code",
   "execution_count": 52,
   "id": "823167db-dcf1-4601-9e68-833c12b56a61",
   "metadata": {},
   "outputs": [
    {
     "ename": "NameError",
     "evalue": "name '__file__' is not defined",
     "output_type": "error",
     "traceback": [
      "\u001b[0;31m---------------------------------------------------------------------------\u001b[0m",
      "\u001b[0;31mNameError\u001b[0m                                 Traceback (most recent call last)",
      "\u001b[0;32m/tmp/ipykernel_1466/3165474185.py\u001b[0m in \u001b[0;36m<module>\u001b[0;34m\u001b[0m\n\u001b[1;32m      1\u001b[0m \u001b[0;32mif\u001b[0m \u001b[0m__name__\u001b[0m \u001b[0;34m==\u001b[0m \u001b[0;34m'__main__'\u001b[0m\u001b[0;34m:\u001b[0m\u001b[0;34m\u001b[0m\u001b[0;34m\u001b[0m\u001b[0m\n\u001b[0;32m----> 2\u001b[0;31m     \u001b[0mbin_dir\u001b[0m \u001b[0;34m=\u001b[0m \u001b[0mos\u001b[0m\u001b[0;34m.\u001b[0m\u001b[0mpath\u001b[0m\u001b[0;34m.\u001b[0m\u001b[0msplit\u001b[0m\u001b[0;34m(\u001b[0m\u001b[0mos\u001b[0m\u001b[0;34m.\u001b[0m\u001b[0mpath\u001b[0m\u001b[0;34m.\u001b[0m\u001b[0mrealpath\u001b[0m\u001b[0;34m(\u001b[0m\u001b[0m__file__\u001b[0m\u001b[0;34m)\u001b[0m\u001b[0;34m)\u001b[0m\u001b[0;34m[\u001b[0m\u001b[0;36m0\u001b[0m\u001b[0;34m]\u001b[0m\u001b[0;34m\u001b[0m\u001b[0;34m\u001b[0m\u001b[0m\n\u001b[0m\u001b[1;32m      3\u001b[0m     \u001b[0mparse\u001b[0m \u001b[0;34m=\u001b[0m \u001b[0margparse\u001b[0m\u001b[0;34m.\u001b[0m\u001b[0mArgumentParser\u001b[0m\u001b[0;34m(\u001b[0m\u001b[0mformatter_class\u001b[0m\u001b[0;34m=\u001b[0m\u001b[0margparse\u001b[0m\u001b[0;34m.\u001b[0m\u001b[0mArgumentDefaultsHelpFormatter\u001b[0m\u001b[0;34m)\u001b[0m\u001b[0;34m\u001b[0m\u001b[0;34m\u001b[0m\u001b[0m\n\u001b[1;32m      4\u001b[0m     \u001b[0mparse\u001b[0m\u001b[0;34m.\u001b[0m\u001b[0madd_argument\u001b[0m\u001b[0;34m(\u001b[0m\u001b[0;34m'-i'\u001b[0m\u001b[0;34m,\u001b[0m \u001b[0;34m'--input'\u001b[0m\u001b[0;34m,\u001b[0m \u001b[0mrequired\u001b[0m\u001b[0;34m=\u001b[0m\u001b[0;32mTrue\u001b[0m\u001b[0;34m,\u001b[0m \u001b[0mhelp\u001b[0m\u001b[0;34m=\u001b[0m\u001b[0;34m'input excle required for family and sample information'\u001b[0m\u001b[0;34m)\u001b[0m\u001b[0;34m\u001b[0m\u001b[0;34m\u001b[0m\u001b[0m\n\u001b[1;32m      5\u001b[0m     \u001b[0mparse\u001b[0m\u001b[0;34m.\u001b[0m\u001b[0madd_argument\u001b[0m\u001b[0;34m(\u001b[0m\u001b[0;34m'-c'\u001b[0m\u001b[0;34m,\u001b[0m \u001b[0;34m'--config'\u001b[0m\u001b[0;34m,\u001b[0m \u001b[0mdefault\u001b[0m\u001b[0;34m=\u001b[0m\u001b[0mos\u001b[0m\u001b[0;34m.\u001b[0m\u001b[0mpath\u001b[0m\u001b[0;34m.\u001b[0m\u001b[0mjoin\u001b[0m\u001b[0;34m(\u001b[0m\u001b[0mbin_dir\u001b[0m\u001b[0;34m,\u001b[0m \u001b[0;34m'template_config.xlsx'\u001b[0m\u001b[0;34m)\u001b[0m\u001b[0;34m,\u001b[0m \u001b[0mhelp\u001b[0m\u001b[0;34m=\u001b[0m\u001b[0;34m'config excel for table information'\u001b[0m\u001b[0;34m)\u001b[0m\u001b[0;34m\u001b[0m\u001b[0;34m\u001b[0m\u001b[0m\n",
      "\u001b[0;31mNameError\u001b[0m: name '__file__' is not defined"
     ]
    }
   ],
   "source": [
    "if __name__ == '__main__':\n",
    "    bin_dir = os.path.split(os.path.realpath(__file__))[0]\n",
    "    parse = argparse.ArgumentParser(formatter_class=argparse.ArgumentDefaultsHelpFormatter)\n",
    "    parse.add_argument('-i', '--input', required=True, help='input excle required for family and sample information')\n",
    "    parse.add_argument('-c', '--config', default=os.path.join(bin_dir, 'template_config.xlsx'), help='config excel for table information')\n",
    "    parse.add_argument('-t', '--template', default=os.path.join(bin_dir, 'template.docx'), help='report template docx file')\n",
    "    parse.add_argument('-o', '--outdir', default='./', help='report output directory')\n",
    "    parse.add_argument('-f', '--figure_dir', default=None, help='figure directory')\n",
    "    args = parse.parse_args()\n",
    "    \n",
    "    logging.basicConfig(level=logging.INFO, format='%(asctime)s %(levelname)s %(message)s', datefmt='%Y-%m-%d %H:%M:%S')\n",
    "    \n",
    "    f_config = args.config\n",
    "    try:\n",
    "        df_config = pd.read_excel(f_config, index_col=0)\n",
    "        dict_config = df_config.to_dict(orient='index')\n",
    "    except Exception as e:\n",
    "        sys.exit(e)\n",
    "        \n",
    "    f_input = args.input\n",
    "    try:\n",
    "        df_family = pd.read_excel(f_input, '家系').fillna('')\n",
    "        dict_family = df_family.set_index('家系编号').to_dict(orient='index')\n",
    "        df_sample = pd.read_excel(f_input, '样本').fillna('')\n",
    "        dict_sample = df_sample.groupby('家系编号').apply(lambda x: x.set_index('样本编号').to_dict(orient='index'))\n",
    "    except Exception as e:\n",
    "        sys.exit(e)\n",
    "        \n",
    "    outdir = args.outdir\n",
    "    pngdir = args.figure_dir\n",
    "    tempate_file = args.template\n",
    "    try:\n",
    "        make_PGS_report(dict_family, dict_sample, dict_config, outdir=outdir, png_dir=pngdir)\n",
    "    except Exception as e:\n",
    "        sys.exit(e)"
   ]
  },
  {
   "cell_type": "code",
   "execution_count": 42,
   "id": "5ce3e1cc-d9f7-4c33-b246-bc7c5e8510a5",
   "metadata": {},
   "outputs": [],
   "source": []
  }
 ],
 "metadata": {
  "jupytext": {
   "formats": "ipynb,py:percent"
  },
  "kernelspec": {
   "display_name": "Python 3 (ipykernel)",
   "language": "python",
   "name": "python3"
  },
  "language_info": {
   "codemirror_mode": {
    "name": "ipython",
    "version": 3
   },
   "file_extension": ".py",
   "mimetype": "text/x-python",
   "name": "python",
   "nbconvert_exporter": "python",
   "pygments_lexer": "ipython3",
   "version": "3.10.0"
  }
 },
 "nbformat": 4,
 "nbformat_minor": 5
}
